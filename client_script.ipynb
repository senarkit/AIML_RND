{
 "cells": [
  {
   "cell_type": "markdown",
   "id": "30d3bf59",
   "metadata": {},
   "source": [
    "Without Auth"
   ]
  },
  {
   "cell_type": "code",
   "execution_count": 5,
   "id": "0de37da9",
   "metadata": {},
   "outputs": [
    {
     "name": "stdout",
     "output_type": "stream",
     "text": [
      "Successful API call :\n",
      "{'id': 20, 'value': 14.64, 'description': 'Randomly generated datapoint'}\n"
     ]
    }
   ],
   "source": [
    "# api_client/client.py\n",
    "import requests\n",
    "\n",
    "response = requests.get(\"http://127.0.0.1:8000/data\")\n",
    "\n",
    "if response.status_code == 200:\n",
    "    data = response.json()\n",
    "    print(\"Successful API call :\")\n",
    "    print(data)\n",
    "else:\n",
    "    print(\"Failed API call :\", response.status_code)\n"
   ]
  },
  {
   "cell_type": "code",
   "execution_count": null,
   "id": "7949bee9",
   "metadata": {},
   "outputs": [],
   "source": []
  },
  {
   "cell_type": "markdown",
   "id": "bea23b60",
   "metadata": {},
   "source": [
    "With Static API Key"
   ]
  },
  {
   "cell_type": "code",
   "execution_count": 7,
   "id": "1dcad172",
   "metadata": {},
   "outputs": [
    {
     "name": "stdout",
     "output_type": "stream",
     "text": [
      "Successful API call :\n",
      "{'id': 66, 'value': 72.07, 'description': 'Randomly generated datapoint'}\n"
     ]
    }
   ],
   "source": [
    "# api_client/client.py\n",
    "import requests\n",
    "\n",
    "API_KEY = \"mysecretkey123\"  # This is static key\n",
    "headers = {\n",
    "    \"X-API-Key\": API_KEY\n",
    "}\n",
    "\n",
    "response = requests.get(\"http://127.0.0.1:8000/data\", headers=headers)\n",
    "\n",
    "if response.status_code == 200:\n",
    "    data = response.json()\n",
    "    print(\"Successful API call :\")\n",
    "    print(data)\n",
    "else:\n",
    "    print(\"Failed API call :\", response.status_code)\n"
   ]
  },
  {
   "cell_type": "code",
   "execution_count": 9,
   "id": "3a6faa14",
   "metadata": {},
   "outputs": [
    {
     "name": "stdout",
     "output_type": "stream",
     "text": [
      "Failed - Status Code : 401\n"
     ]
    }
   ],
   "source": [
    "# api_client/client.py\n",
    "import requests\n",
    "\n",
    "API_KEY = \"mysecretkey1234\"  # Wrong Key\n",
    "headers = {\n",
    "    \"X-API-Key\": API_KEY\n",
    "}\n",
    "\n",
    "response = requests.get(\"http://127.0.0.1:8000/data\", headers=headers)\n",
    "\n",
    "if response.status_code == 200:\n",
    "    data = response.json()\n",
    "    print(\"Successful API call :\")\n",
    "    print(data)\n",
    "else:\n",
    "    print(\"Failed - Status Code :\", response.status_code)\n"
   ]
  },
  {
   "cell_type": "code",
   "execution_count": null,
   "id": "faa5de4f",
   "metadata": {},
   "outputs": [],
   "source": []
  },
  {
   "cell_type": "code",
   "execution_count": null,
   "id": "65ed0482",
   "metadata": {},
   "outputs": [],
   "source": []
  },
  {
   "cell_type": "markdown",
   "id": "0311bf85",
   "metadata": {},
   "source": [
    "TEST"
   ]
  },
  {
   "cell_type": "code",
   "execution_count": null,
   "id": "fb625bf3",
   "metadata": {},
   "outputs": [],
   "source": [
    "# jupyter nbconvert --to html \"client_script.ipynb\""
   ]
  }
 ],
 "metadata": {
  "kernelspec": {
   "display_name": "venv",
   "language": "python",
   "name": "python3"
  },
  "language_info": {
   "codemirror_mode": {
    "name": "ipython",
    "version": 3
   },
   "file_extension": ".py",
   "mimetype": "text/x-python",
   "name": "python",
   "nbconvert_exporter": "python",
   "pygments_lexer": "ipython3",
   "version": "3.11.9"
  }
 },
 "nbformat": 4,
 "nbformat_minor": 5
}
