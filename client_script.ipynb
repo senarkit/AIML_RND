{
 "cells": [
  {
   "cell_type": "markdown",
   "id": "30d3bf59",
   "metadata": {},
   "source": [
    "Without Auth"
   ]
  },
  {
   "cell_type": "code",
   "execution_count": null,
   "id": "0de37da9",
   "metadata": {},
   "outputs": [
    {
     "name": "stdout",
     "output_type": "stream",
     "text": [
      "✅ Successfully got data from API:\n",
      "{'id': 393, 'value': 44.16, 'description': 'Randomly generated datapoint'}\n"
     ]
    }
   ],
   "source": [
    "# api_client/client.py\n",
    "import requests\n",
    "\n",
    "response = requests.get(\"http://127.0.0.1:8000/data\")\n",
    "\n",
    "if response.status_code == 200:\n",
    "    data = response.json()\n",
    "    print(\"Successful API call :\")\n",
    "    print(data)\n",
    "else:\n",
    "    print(\"Failed API call :\", response.status_code)\n"
   ]
  },
  {
   "cell_type": "code",
   "execution_count": null,
   "id": "7949bee9",
   "metadata": {},
   "outputs": [],
   "source": []
  },
  {
   "cell_type": "markdown",
   "id": "bea23b60",
   "metadata": {},
   "source": [
    "With Authentication"
   ]
  },
  {
   "cell_type": "code",
   "execution_count": null,
   "id": "1dcad172",
   "metadata": {},
   "outputs": [],
   "source": []
  },
  {
   "cell_type": "code",
   "execution_count": null,
   "id": "3a6faa14",
   "metadata": {},
   "outputs": [],
   "source": []
  },
  {
   "cell_type": "code",
   "execution_count": null,
   "id": "faa5de4f",
   "metadata": {},
   "outputs": [],
   "source": []
  },
  {
   "cell_type": "code",
   "execution_count": null,
   "id": "65ed0482",
   "metadata": {},
   "outputs": [],
   "source": []
  },
  {
   "cell_type": "markdown",
   "id": "0311bf85",
   "metadata": {},
   "source": [
    "TEST"
   ]
  },
  {
   "cell_type": "code",
   "execution_count": null,
   "id": "fb625bf3",
   "metadata": {},
   "outputs": [],
   "source": [
    "# jupyter nbconvert --to html \"client_script.ipynb\""
   ]
  }
 ],
 "metadata": {
  "kernelspec": {
   "display_name": "venv_py311",
   "language": "python",
   "name": "python3"
  },
  "language_info": {
   "codemirror_mode": {
    "name": "ipython",
    "version": 3
   },
   "file_extension": ".py",
   "mimetype": "text/x-python",
   "name": "python",
   "nbconvert_exporter": "python",
   "pygments_lexer": "ipython3",
   "version": "3.11.9"
  }
 },
 "nbformat": 4,
 "nbformat_minor": 5
}
